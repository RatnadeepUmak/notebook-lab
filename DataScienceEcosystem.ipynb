{
  "nbformat": 4,
  "nbformat_minor": 0,
  "metadata": {
    "colab": {
      "provenance": [],
      "authorship_tag": "ABX9TyPws03K2xk8g3o4s58sct2l",
      "include_colab_link": true
    },
    "kernelspec": {
      "name": "python3",
      "display_name": "Python 3"
    },
    "language_info": {
      "name": "python"
    }
  },
  "cells": [
    {
      "cell_type": "markdown",
      "metadata": {
        "id": "view-in-github",
        "colab_type": "text"
      },
      "source": [
        "<a href=\"https://colab.research.google.com/github/RatnadeepUmak/notebook-lab/blob/main/DataScienceEcosystem.ipynb\" target=\"_parent\"><img src=\"https://colab.research.google.com/assets/colab-badge.svg\" alt=\"Open In Colab\"/></a>"
      ]
    },
    {
      "cell_type": "code",
      "execution_count": null,
      "metadata": {
        "id": "kfDy5s2TjNZF"
      },
      "outputs": [],
      "source": []
    },
    {
      "cell_type": "markdown",
      "source": [
        "<h1>Data Science Tools and Ecosystem</h1>\n",
        "\n",
        "\n",
        "\n"
      ],
      "metadata": {
        "id": "lkJmLNxQkJyz"
      }
    },
    {
      "cell_type": "markdown",
      "source": [
        "In this notebook, Data Science Tools and Ecosystem are summarized."
      ],
      "metadata": {
        "id": "MWazpFSjlmIj"
      }
    },
    {
      "cell_type": "markdown",
      "source": [
        "Some of the popular languages that Data Scientists use are:\n",
        "\n",
        "\n",
        "\n",
        "1.   Python\n",
        "2.   R\n",
        "3.   SQL\n",
        "\n",
        "\n",
        "\n"
      ],
      "metadata": {
        "id": "XstKyCjcmByK"
      }
    },
    {
      "cell_type": "markdown",
      "source": [
        "Some of the commonly used libraries used by Data Scientists include:\n",
        "\n",
        "\n",
        "1.   Pandas\n",
        "2.   NumPy\n",
        "3.   Matplotlib\n",
        "\n"
      ],
      "metadata": {
        "id": "koU6UJQMmnbS"
      }
    },
    {
      "cell_type": "markdown",
      "source": [
        "<table>\n",
        "<th>Data Science Tools</th>\n",
        "<tr>\n",
        "<td>MongoDB</td>\n",
        "</tr>\n",
        "<tr>\n",
        "<td>Apache SparkSQL</td>\n",
        "</tr>\n",
        "<tr>\n",
        "<td>TensorFlow</td>\n",
        "</tr>\n",
        "\n",
        "</table>\n",
        "\n"
      ],
      "metadata": {
        "id": "LBWNKbV2nKlq"
      }
    },
    {
      "cell_type": "markdown",
      "source": [
        "<h3>Below are a few examples of evaluating arithmetic expressions in Python</h3>"
      ],
      "metadata": {
        "id": "5L5sYT20oy5h"
      }
    },
    {
      "cell_type": "code",
      "source": [
        "#This a simple arithmetic expression to mutiply then add integers\n",
        "\n",
        "(3*4)+5"
      ],
      "metadata": {
        "colab": {
          "base_uri": "https://localhost:8080/"
        },
        "id": "6C1OCCkppPiw",
        "outputId": "926044c2-c5bd-4a08-b9c3-1f0bb0e8dc6f"
      },
      "execution_count": null,
      "outputs": [
        {
          "output_type": "execute_result",
          "data": {
            "text/plain": [
              "17"
            ]
          },
          "metadata": {},
          "execution_count": 1
        }
      ]
    },
    {
      "cell_type": "code",
      "source": [
        "#This will convert 200 minutes to hours by diving by 60\n",
        "\n",
        "200/60"
      ],
      "metadata": {
        "colab": {
          "base_uri": "https://localhost:8080/"
        },
        "id": "DE0pdMZEpZaq",
        "outputId": "81b0fe10-2477-41fd-a372-0cb46f1f50f1"
      },
      "execution_count": null,
      "outputs": [
        {
          "output_type": "execute_result",
          "data": {
            "text/plain": [
              "3.3333333333333335"
            ]
          },
          "metadata": {},
          "execution_count": 2
        }
      ]
    },
    {
      "cell_type": "markdown",
      "source": [
        "**Objectives:**\n",
        "\n",
        "<ul>\n",
        "<li>Python</li>\n",
        "<li>R</li>\n",
        "<li>SQL</li>\n",
        "</ul>"
      ],
      "metadata": {
        "id": "G2x5RaQpqjso"
      }
    },
    {
      "cell_type": "markdown",
      "source": [
        "<h2>Author</h2>\n",
        "Ratnadeep"
      ],
      "metadata": {
        "id": "jdLdtsnRrOOB"
      }
    }
  ]
}